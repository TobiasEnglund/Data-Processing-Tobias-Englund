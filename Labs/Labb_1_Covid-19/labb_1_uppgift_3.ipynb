{
 "cells": [
  {
   "cell_type": "code",
   "execution_count": 1,
   "metadata": {},
   "outputs": [],
   "source": [
    "import pandas as pd\n",
    "import plotly.express as px"
   ]
  },
  {
   "cell_type": "code",
   "execution_count": 2,
   "metadata": {},
   "outputs": [
    {
     "name": "stdout",
     "output_type": "stream",
     "text": [
      "<class 'pandas.core.frame.DataFrame'>\n",
      "RangeIndex: 2112 entries, 0 to 2111\n",
      "Data columns (total 4 columns):\n",
      " #   Column               Non-Null Count  Dtype \n",
      "---  ------               --------------  ----- \n",
      " 0   Vecka                2112 non-null   int64 \n",
      " 1   År                   2112 non-null   int64 \n",
      " 2   Region               2112 non-null   object\n",
      " 3   Antal vaccinationer  2112 non-null   int64 \n",
      "dtypes: int64(3), object(1)\n",
      "memory usage: 66.1+ KB\n",
      "<class 'pandas.core.frame.DataFrame'>\n",
      "RangeIndex: 996 entries, 0 to 995\n",
      "Data columns (total 23 columns):\n",
      " #   Column               Non-Null Count  Dtype         \n",
      "---  ------               --------------  -----         \n",
      " 0   Statistikdatum       996 non-null    datetime64[ns]\n",
      " 1   Totalt_antal_fall    996 non-null    int64         \n",
      " 2   Blekinge             996 non-null    int64         \n",
      " 3   Dalarna              996 non-null    int64         \n",
      " 4   Gotland              996 non-null    int64         \n",
      " 5   Gävleborg            996 non-null    int64         \n",
      " 6   Halland              996 non-null    int64         \n",
      " 7   Jämtland_Härjedalen  996 non-null    int64         \n",
      " 8   Jönköping            996 non-null    int64         \n",
      " 9   Kalmar               996 non-null    int64         \n",
      " 10  Kronoberg            996 non-null    int64         \n",
      " 11  Norrbotten           996 non-null    int64         \n",
      " 12  Skåne                996 non-null    int64         \n",
      " 13  Stockholm            996 non-null    int64         \n",
      " 14  Sörmland             996 non-null    int64         \n",
      " 15  Uppsala              996 non-null    int64         \n",
      " 16  Värmland             996 non-null    int64         \n",
      " 17  Västerbotten         996 non-null    int64         \n",
      " 18  Västernorrland       996 non-null    int64         \n",
      " 19  Västmanland          996 non-null    int64         \n",
      " 20  Västra_Götaland      996 non-null    int64         \n",
      " 21  Örebro               996 non-null    int64         \n",
      " 22  Östergötland         996 non-null    int64         \n",
      "dtypes: datetime64[ns](1), int64(22)\n",
      "memory usage: 179.1 KB\n"
     ]
    }
   ],
   "source": [
    "vaccinerade = pd.read_excel(\"../Labb_1_Covid-19/Data/Folkhalsomyndigheten_Covid19_Vaccine.xlsx\")\n",
    "vaccinerade2 = pd.read_excel(\"../Labb_1_Covid-19/Data/Folkhalsomyndigheten_Covid19.xlsx\")\n",
    "vaccinerade.info()\n",
    "vaccinerade2.info()"
   ]
  },
  {
   "cell_type": "markdown",
   "metadata": {},
   "source": [
    "#### Covid19.xlsx:  \n",
    "Sheet: Totalt antal per kön  \n",
    "Kön  \n",
    "Totalt_antal_fall  \n",
    "\n",
    "#### Covid19_Vaccine.xlsx \n",
    "Sheet: Vaccinerade kön  \n",
    "Kön  \n",
    "Antal vaccinerade  "
   ]
  }
 ],
 "metadata": {
  "kernelspec": {
   "display_name": "Data-Processing-Tobias-Englund-NR_8JeDe",
   "language": "python",
   "name": "python3"
  },
  "language_info": {
   "codemirror_mode": {
    "name": "ipython",
    "version": 3
   },
   "file_extension": ".py",
   "mimetype": "text/x-python",
   "name": "python",
   "nbconvert_exporter": "python",
   "pygments_lexer": "ipython3",
   "version": "3.10.4"
  }
 },
 "nbformat": 4,
 "nbformat_minor": 2
}
