{
 "cells": [
  {
   "cell_type": "code",
   "execution_count": 6,
   "metadata": {},
   "outputs": [
    {
     "name": "stdout",
     "output_type": "stream",
     "text": [
      "Dash app running on http://127.0.0.1:8050/\n"
     ]
    }
   ],
   "source": [
    "from dash import Dash, html, dcc, callback, Output, Input\n",
    "import dash_bootstrap_components as dbc\n",
    "\n",
    "app = Dash(\n",
    "    __name__, \n",
    "    external_stylesheets=[dbc.themes.CYBORG],\n",
    "    meta_tags=[{\"name\": \"viewport\", \"content\": \"width=device-width, initial-scale=1\"}]\n",
    ")\n",
    "\n",
    "app.layout = html.Div(\"Hello bootstrap!\")\n",
    "\n",
    "app.layout = dbc.Container([    \n",
    "    dbc.Row([\n",
    "        dbc.Col(\n",
    "            children=dbc.Input(type=\"text\", placeholder=\"First name:\"),\n",
    "            className=\"mt-2\",\n",
    "            xs=12, sm=6, md=6, lg=3\n",
    "        ),\n",
    "        dbc.Col(\n",
    "            children=dbc.Input(type=\"text\", placeholder=\"Last name:\"),\n",
    "            className=\"mt-2\",\n",
    "            xs=12, sm=6, md=6, lg=3\n",
    "        ),\n",
    "        dbc.Col(\n",
    "            children=dbc.Input(type=\"text\", placeholder=\"Email:\"),\n",
    "            className=\"mt-2\",\n",
    "            xs=12, sm=6, md=6, lg=3\n",
    "        ),\n",
    "        dbc.Col(\n",
    "            children=dbc.Input(type=\"text\", placeholder=\"Phone number:\"),\n",
    "            className=\"mt-2\",\n",
    "            xs=12, sm=6, md=6, lg=3\n",
    "        )\n",
    "    ], justify=\"evenly\")\n",
    "], fluid=True)\n",
    "\n",
    "app.run(debug=True, jupyter_mode=\"external\")"
   ]
  }
 ],
 "metadata": {
  "kernelspec": {
   "display_name": "GitHub-FsW2I2pH",
   "language": "python",
   "name": "python3"
  },
  "language_info": {
   "codemirror_mode": {
    "name": "ipython",
    "version": 3
   },
   "file_extension": ".py",
   "mimetype": "text/x-python",
   "name": "python",
   "nbconvert_exporter": "python",
   "pygments_lexer": "ipython3",
   "version": "3.11.5"
  }
 },
 "nbformat": 4,
 "nbformat_minor": 2
}
